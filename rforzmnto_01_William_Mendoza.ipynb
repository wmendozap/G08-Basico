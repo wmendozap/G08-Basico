{
 "cells": [
  {
   "cell_type": "markdown",
   "source": [
    "**1. El valor de '¡HI TuNombre!' imprimirlo por pantalla, el texto debe ser un string y deberás guardarlo en una variable llamada mi_saludo. Tu nombre debe estar en otra variable.**"
   ],
   "metadata": {
    "collapsed": false
   }
  },
  {
   "cell_type": "code",
   "execution_count": 34,
   "outputs": [
    {
     "name": "stdout",
     "output_type": "stream",
     "text": [
      "¡Hi William Antonio!\n"
     ]
    }
   ],
   "source": [
    "mi_nombre = 'William Antonio'\n",
    "mi_saludo = '¡' + 'Hi ' + mi_nombre + '!'\n",
    "print(mi_saludo)"
   ],
   "metadata": {
    "collapsed": false,
    "ExecuteTime": {
     "end_time": "2023-06-18T02:22:30.195806Z",
     "start_time": "2023-06-18T02:22:30.164562400Z"
    }
   }
  },
  {
   "cell_type": "markdown",
   "source": [
    "**2. Crea una variable tipo int. Luego, multiplica por 10 y restarle 10. Debes hacer todo esto en dos pasos. Finalmente mostrar el resultado por pantalla.**"
   ],
   "metadata": {
    "collapsed": false
   }
  },
  {
   "cell_type": "code",
   "execution_count": 35,
   "outputs": [
    {
     "name": "stdout",
     "output_type": "stream",
     "text": [
      "Valor de la variable: 20\n"
     ]
    }
   ],
   "source": [
    "var_1 = 3 * 10\n",
    "var_2 = var_1 - 10\n",
    "print('Valor de la variable: {}'.format(var_2))"
   ],
   "metadata": {
    "collapsed": false,
    "ExecuteTime": {
     "end_time": "2023-06-18T02:22:30.258387700Z",
     "start_time": "2023-06-18T02:22:30.180184600Z"
    }
   }
  },
  {
   "cell_type": "markdown",
   "source": [
    "**3. Crear una variable tipo string y poder luego sumarla con otra variable tipo int, para esto convertir una de las variables. Mostrar la suma en pantalla.**"
   ],
   "metadata": {
    "collapsed": false
   }
  },
  {
   "cell_type": "code",
   "execution_count": 36,
   "outputs": [
    {
     "name": "stdout",
     "output_type": "stream",
     "text": [
      "Hola 35\n"
     ]
    }
   ],
   "source": [
    "saludo = 'Hola'\n",
    "var_3 = 35\n",
    "result = saludo + ' ' + str(var_3)\n",
    "print(result)"
   ],
   "metadata": {
    "collapsed": false,
    "ExecuteTime": {
     "end_time": "2023-06-18T02:22:30.352023500Z",
     "start_time": "2023-06-18T02:22:30.258387700Z"
    }
   }
  },
  {
   "cell_type": "markdown",
   "source": [
    "**4. Hallar el volumen de una esfera, cada dato requerido para hallar el volumen debe estar en una variable. Mostrar el volumen por pantalla.**"
   ],
   "metadata": {
    "collapsed": false
   }
  },
  {
   "cell_type": "code",
   "execution_count": 37,
   "outputs": [
    {
     "name": "stdout",
     "output_type": "stream",
     "text": [
      "4.1887902047863905\n"
     ]
    }
   ],
   "source": [
    "import math\n",
    "# V = ⁴⁄₃πr³\n",
    "radio = 1\n",
    "volumen = (4/3) * math.pi * math.pow(radio, 3)\n",
    "print(volumen)"
   ],
   "metadata": {
    "collapsed": false,
    "ExecuteTime": {
     "end_time": "2023-06-18T02:22:30.461368300Z",
     "start_time": "2023-06-18T02:22:30.352023500Z"
    }
   }
  },
  {
   "cell_type": "markdown",
   "source": [
    "**5. Crear un programa que partiendo de un sueldo en una variable, sepamos si es par o impar. Utilizar módulo y condicional.**"
   ],
   "metadata": {
    "collapsed": false
   }
  },
  {
   "cell_type": "code",
   "execution_count": 38,
   "outputs": [
    {
     "name": "stdout",
     "output_type": "stream",
     "text": [
      "El número es impar\n"
     ]
    }
   ],
   "source": [
    "sueldo = 2561\n",
    "if sueldo % 2 == 0:\n",
    "    print(\"El número es par\")\n",
    "else:\n",
    "    print(\"El número es impar\")"
   ],
   "metadata": {
    "collapsed": false,
    "ExecuteTime": {
     "end_time": "2023-06-18T02:22:30.539475500Z",
     "start_time": "2023-06-18T02:22:30.461368300Z"
    }
   }
  },
  {
   "cell_type": "markdown",
   "source": [
    "**6. Calcular la media de 5 datos (floats), cada dato debe estar en una variable y la media también. Mostrar el resultado en pantalla.**"
   ],
   "metadata": {
    "collapsed": false
   }
  },
  {
   "cell_type": "code",
   "execution_count": 39,
   "outputs": [
    {
     "name": "stdout",
     "output_type": "stream",
     "text": [
      "El promedio es: 57.4\n"
     ]
    }
   ],
   "source": [
    "peso_1 = 25.90\n",
    "peso_2 = 45.85\n",
    "peso_3 = 87.58\n",
    "peso_4 = 59.31\n",
    "peso_5 = 68.36\n",
    "\n",
    "promedio = (peso_1 + peso_2 + peso_3 + peso_4 + peso_5) / 5.0\n",
    "print('El promedio es: {}'.format(promedio))"
   ],
   "metadata": {
    "collapsed": false,
    "ExecuteTime": {
     "end_time": "2023-06-18T02:22:30.633243900Z",
     "start_time": "2023-06-18T02:22:30.539475500Z"
    }
   }
  },
  {
   "cell_type": "markdown",
   "source": [],
   "metadata": {
    "collapsed": false
   }
  },
  {
   "cell_type": "markdown",
   "source": [
    "**7. De 3 números asignados (tú los propones) a 3 variables se pide hallar la suma de los valores de los módulos con 3, 5, y 7 respectivamente, mostrar en pantalla el valor de la suma.**"
   ],
   "metadata": {
    "collapsed": false
   }
  },
  {
   "cell_type": "code",
   "execution_count": 40,
   "outputs": [
    {
     "name": "stdout",
     "output_type": "stream",
     "text": [
      "Suma de los modulos es: 9\n"
     ]
    }
   ],
   "source": [
    "num_1 = 36\n",
    "num_2 = 68\n",
    "num_3 = 55\n",
    "suma = num_1 % 3 + num_2 % 5 + num_3 % 7\n",
    "print('Suma de los modulos es: {}'.format(suma))"
   ],
   "metadata": {
    "collapsed": false,
    "ExecuteTime": {
     "end_time": "2023-06-18T02:22:30.723925800Z",
     "start_time": "2023-06-18T02:22:30.633243900Z"
    }
   }
  },
  {
   "cell_type": "markdown",
   "source": [
    "**8. Usando la condicional if imprimir por pantalla si una lista está vacía o no, probar con una lista vacía y otra con una lista no vacía.**"
   ],
   "metadata": {
    "collapsed": false
   }
  },
  {
   "cell_type": "code",
   "execution_count": 41,
   "outputs": [
    {
     "name": "stdout",
     "output_type": "stream",
     "text": [
      "Lista vacía\n",
      "Longitud de la lista: 5\n"
     ]
    }
   ],
   "source": [
    "lista_1 = []\n",
    "lista_2 = [20, \"William\", \"Calle los Robles\", 2000, 'A']\n",
    "\n",
    "if len(lista_1) == 0:\n",
    "    print('Lista vacía')\n",
    "if len(lista_2) != 0:\n",
    "    print('Longitud de la lista: {}'.format(len(lista_2)))"
   ],
   "metadata": {
    "collapsed": false,
    "ExecuteTime": {
     "end_time": "2023-06-18T02:22:30.817848600Z",
     "start_time": "2023-06-18T02:22:30.723925800Z"
    }
   }
  },
  {
   "cell_type": "markdown",
   "source": [
    "**9. Elevar al exponente de 4 un número que su valor estará asignado a una variable y luego restar este mismo valor multiplicado por dos (usar pow). Mostrar el resultado en pantalla.**"
   ],
   "metadata": {
    "collapsed": false
   }
  },
  {
   "cell_type": "code",
   "execution_count": 42,
   "outputs": [
    {
     "name": "stdout",
     "output_type": "stream",
     "text": [
      "El resultado es: 615.0\n"
     ]
    }
   ],
   "source": [
    "import math\n",
    "base = 5\n",
    "resultado = math.pow(base, 4) - (base * 2)\n",
    "print('El resultado es: {}'.format(resultado))"
   ],
   "metadata": {
    "collapsed": false,
    "ExecuteTime": {
     "end_time": "2023-06-18T02:22:30.911595400Z",
     "start_time": "2023-06-18T02:22:30.817848600Z"
    }
   }
  },
  {
   "cell_type": "markdown",
   "source": [
    "**10. Crear un diccionario con los siguientes key: nombre, carrera, edad y año de nacimiento, mostrar en pantalla el valor de este diccionario.**"
   ],
   "metadata": {
    "collapsed": false
   }
  },
  {
   "cell_type": "code",
   "execution_count": 43,
   "outputs": [
    {
     "name": "stdout",
     "output_type": "stream",
     "text": [
      "{'Nombre': 'William Antonio', 'Carrera': 'Ingeniería', 'Edad': 37, 'Nacimiento': 1985}\n"
     ]
    }
   ],
   "source": [
    "dic_1 = {\"Nombre\": \"William Antonio\",\n",
    "      \"Carrera\": \"Ingeniería\",\n",
    "      \"Edad\": 37,\n",
    "      \"Nacimiento\": 1985\n",
    "}\n",
    "print(dic_1)"
   ],
   "metadata": {
    "collapsed": false,
    "ExecuteTime": {
     "end_time": "2023-06-18T02:22:30.973867700Z",
     "start_time": "2023-06-18T02:22:30.911595400Z"
    }
   }
  },
  {
   "cell_type": "markdown",
   "source": [
    "**11. Identificar que tipo de dato se obtiene al elevar un número a la exponente de 5 y luego dividirlo por 10. Mostrar el resultado en pantalla.**"
   ],
   "metadata": {
    "collapsed": false
   }
  },
  {
   "cell_type": "code",
   "execution_count": 44,
   "outputs": [
    {
     "name": "stdout",
     "output_type": "stream",
     "text": [
      "El resultado es: 24.3 y el tipo de dato es: <class 'float'>\n"
     ]
    }
   ],
   "source": [
    "import math\n",
    "pow = math.pow(3, 5) / 10\n",
    "print('El resultado es: {} y el tipo de dato es: {}'.format(pow, type(pow)))"
   ],
   "metadata": {
    "collapsed": false,
    "ExecuteTime": {
     "end_time": "2023-06-18T02:22:31.145912400Z",
     "start_time": "2023-06-18T02:22:30.973867700Z"
    }
   }
  },
  {
   "cell_type": "code",
   "execution_count": 44,
   "outputs": [],
   "source": [],
   "metadata": {
    "collapsed": false,
    "ExecuteTime": {
     "end_time": "2023-06-18T02:22:31.192626300Z",
     "start_time": "2023-06-18T02:22:31.145912400Z"
    }
   }
  }
 ],
 "metadata": {
  "kernelspec": {
   "display_name": "Python 3",
   "language": "python",
   "name": "python3"
  },
  "language_info": {
   "codemirror_mode": {
    "name": "ipython",
    "version": 2
   },
   "file_extension": ".py",
   "mimetype": "text/x-python",
   "name": "python",
   "nbconvert_exporter": "python",
   "pygments_lexer": "ipython2",
   "version": "2.7.6"
  }
 },
 "nbformat": 4,
 "nbformat_minor": 0
}
